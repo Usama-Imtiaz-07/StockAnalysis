{
 "cells": [
  {
   "cell_type": "markdown",
   "metadata": {},
   "source": [
    "### 1. Web scraping Data\n",
    "\n",
    "Scraping quarterly financial data from yahoo finance"
   ]
  },
  {
   "cell_type": "code",
   "execution_count": 15,
   "metadata": {},
   "outputs": [],
   "source": [
    "# Importing libraries and modules\n",
    "import requests\n",
    "from bs4 import BeautifulSoup\n",
    "import pandas as pd"
   ]
  },
  {
   "cell_type": "code",
   "execution_count": 16,
   "metadata": {},
   "outputs": [],
   "source": [
    "# scraping from yahoo finance\n",
    "def scrape_yahoo_finance(ticker):\n",
    "    url = f\"https://finance.yahoo.com/quote/{ticker}/financials\"\n",
    "    headers  = {'User-Agent':'Mozilla/5.0'}\n",
    "    response = requests.get(url, headers=headers)\n",
    "    soup=BeautifulSoup(response.text, 'html.parser')\n",
    "\n",
    "    # extract table data\n",
    "    table = soup.find_all('div', {'class': 'M(0) Whs(n) BdEnd Bdc($seperatorColor) D(itb)'})\n",
    "    \n",
    "    if not table:\n",
    "        print(f\"No table found for ticker {ticker}\")\n",
    "        print(\"Possible reasons:\")\n",
    "        print(\"1. Incorrect ticker symbol\")\n",
    "        print(\"2. Website structure changed\")\n",
    "        print(\"3. Blocked by website\")\n",
    "        \n",
    "        # Optional: Print the entire page source for debugging\n",
    "        print(\"\\nPage Source (first 1000 characters):\")\n",
    "        print(response.text[:1000])\n",
    "        \n",
    "        return None\n",
    "    \n",
    "     \n",
    "    # Try to find rows\n",
    "    try:\n",
    "        rows = table[0].find_all('div', {'class': 'D(tbr)'})\n",
    "        \n",
    "        # Check if rows exist\n",
    "        if not rows:\n",
    "            print(\"No rows found in the table\")\n",
    "            return None\n",
    "        \n",
    "        # Extract data\n",
    "        data = []\n",
    "        for row in rows:\n",
    "            cols = row.find_all('div', {'class': 'D(tbc)'})\n",
    "            data.append([col.text for col in cols])\n",
    "        \n",
    "        # Create DataFrame\n",
    "        if data:\n",
    "            df = pd.DataFrame(data[1:], columns=data[0])\n",
    "            return df\n",
    "        else:\n",
    "            print(\"No data extracted from rows\")\n",
    "            return None\n",
    "    \n",
    "    except Exception as e:\n",
    "        print(f\"An error occurred: {e}\")\n",
    "        return None"
   ]
  },
  {
   "cell_type": "code",
   "execution_count": 17,
   "metadata": {},
   "outputs": [
    {
     "name": "stdout",
     "output_type": "stream",
     "text": [
      "No table found for ticker LULU\n",
      "Possible reasons:\n",
      "1. Incorrect ticker symbol\n",
      "2. Website structure changed\n",
      "3. Blocked by website\n",
      "\n",
      "Page Source (first 1000 characters):\n",
      "<!doctype html>\n",
      "<html lang=\"en-US\" theme=\"auto\" data-color-theme-enabled=\"true\" data-color-scheme=\"auto\" class=\"desktop neo-green dock-upscale\">\n",
      "    <head>\n",
      "        <meta charset=\"utf-8\" />\n",
      "        <meta name=\"oath:guce:consent-host\" content=\"guce.yahoo.com\" />\n",
      "        <link rel=\"preconnect\" href=\"//s.yimg.com\" crossorigin=\"anonymous\"><link rel=\"preconnect\" href=\"//geo.yahoo.com\"/><link rel=\"preconnect\" href=\"//query1.finance.yahoo.com\"/><link rel=\"preconnect\" href=\"//query2.finance.yahoo.com\"/><link rel=\"preconnect\" href=\"//consent.cmp.oath.com\"/><link rel=\"preload\" href=\"/__rapidworker-1.2.js\" as=\"worker\"/><link rel=\"preconnect\" href=\"https://s.yimg.com/uc/finance/webcore/js/_staticFinProtobuf.4b1559b8e4645fd93a12.js\"/><link rel=\"preconnect\" href=\"https://cdn.jsdelivr.net/npm/protobufjs@7.1.2/dist/minimal/protobuf.min.js\"/><script>window.finNeoPageStart = Date.now();</script><script>(function(){if(!window.YAHOO){window.YAHOO={}}; window.YAHOO.context={\"consent\":{\"allowContentPersonali\n"
     ]
    }
   ],
   "source": [
    "# example - AAPL\n",
    "aapl_df = scrape_yahoo_finance(\"LULU\")\n",
    "#print(aapl_df.head())"
   ]
  },
  {
   "cell_type": "markdown",
   "metadata": {},
   "source": [
    "use Yahoo finance api as alternative, if web scraping fails for some reason"
   ]
  },
  {
   "cell_type": "code",
   "execution_count": 18,
   "metadata": {},
   "outputs": [
    {
     "name": "stdout",
     "output_type": "stream",
     "text": [
      "YF.download() has changed argument auto_adjust default to True\n"
     ]
    },
    {
     "name": "stderr",
     "output_type": "stream",
     "text": [
      "[*********************100%***********************]  1 of 1 completed\n"
     ]
    }
   ],
   "source": [
    "import yfinance as yf\n",
    "\n",
    "data = yf.download(\"AAPL\", start=\"2020-01-01\", end=\"2023-12-31\", interval=\"3mo\")"
   ]
  },
  {
   "cell_type": "code",
   "execution_count": null,
   "metadata": {},
   "outputs": [],
   "source": []
  }
 ],
 "metadata": {
  "kernelspec": {
   "display_name": "venv",
   "language": "python",
   "name": "python3"
  },
  "language_info": {
   "codemirror_mode": {
    "name": "ipython",
    "version": 3
   },
   "file_extension": ".py",
   "mimetype": "text/x-python",
   "name": "python",
   "nbconvert_exporter": "python",
   "pygments_lexer": "ipython3",
   "version": "3.9.6"
  }
 },
 "nbformat": 4,
 "nbformat_minor": 2
}
